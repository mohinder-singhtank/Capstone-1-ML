{
 "cells": [
  {
   "cell_type": "markdown",
   "metadata": {},
   "source": [
    "### Install and Import statements"
   ]
  },
  {
   "cell_type": "code",
   "execution_count": 1,
   "metadata": {},
   "outputs": [],
   "source": [
    "# pip install mysql-connector-python\n",
    "\n",
    "# Import statements to import libraries\n",
    "import mysql.connector as sqcon\n",
    "import pandas as pd\n",
    "import numpy as np"
   ]
  },
  {
   "cell_type": "markdown",
   "metadata": {},
   "source": [
    "### Defining the reusable functions"
   ]
  },
  {
   "cell_type": "code",
   "execution_count": 2,
   "metadata": {},
   "outputs": [],
   "source": [
    "# Defining the function to create SQL connection\n",
    "def create_sql_conn():\n",
    "    try:\n",
    "        conn = sqcon.connect(user='student', \n",
    "            password='student',\n",
    "            host='cpanel.insaid.co',\n",
    "            database='Capstone1')\n",
    "    except sqcon.Error as e:\n",
    "        print(\"Error Creating database connection \", e)\n",
    "    return conn\n",
    "\n",
    "\n",
    "\n",
    "# Defining the function to get the table data, it uses create SQL connection function\n",
    "def getTableData(table_name):\n",
    "    df = pd.DataFrame()\n",
    "    try:\n",
    "        conn = create_sql_conn()\n",
    "        db_cursor = conn.cursor()\n",
    "        db_cursor.execute('SELECT * FROM ' + table_name)\n",
    "        table_rows = db_cursor.fetchall()\n",
    "        df = pd.DataFrame(table_rows)\n",
    "    except sqcon.Error as e:\n",
    "        print(\"Error Reading data from DB table \", e)\n",
    "    finally:\n",
    "        db_cursor.close()\n",
    "        conn.close()\n",
    "    return df\n",
    "\n",
    "\n",
    "\n",
    "# Defining the function to read the missing data in a dataframe\n",
    "def missing_data(data):\n",
    "    total = data.isnull().sum().sort_values(ascending = False)\n",
    "    percent = (data.isnull().sum()/data.isnull().count()*100).sort_values(ascending = False)\n",
    "    return pd.concat([total, percent], axis=1, keys=['Total', 'Percent'])"
   ]
  },
  {
   "cell_type": "markdown",
   "metadata": {},
   "source": [
    "## Week 1 activities"
   ]
  },
  {
   "cell_type": "markdown",
   "metadata": {},
   "source": [
    "### Reading the data from MS SQL database"
   ]
  },
  {
   "cell_type": "code",
   "execution_count": 3,
   "metadata": {},
   "outputs": [],
   "source": [
    "# Reading 'gender_age_train' data from database and then adding the required columns\n",
    "gender_age_train_df = getTableData('gender_age_train')\n",
    "gender_age_train_df.columns =['device_id', 'Gender', 'Age', 'Age_Group']\n"
   ]
  },
  {
   "cell_type": "code",
   "execution_count": 4,
   "metadata": {},
   "outputs": [],
   "source": [
    "# Reading 'phone_brand_device_model' data from database and then adding the required columns\n",
    "phone_brand_device_model_df = getTableData('phone_brand_device_model')\n",
    "phone_brand_device_model_df.columns =['device_id', 'Brand', 'Model_Name']\n"
   ]
  },
  {
   "cell_type": "markdown",
   "metadata": {},
   "source": [
    "### Reading the events data from the local file system"
   ]
  },
  {
   "cell_type": "code",
   "execution_count": 5,
   "metadata": {},
   "outputs": [],
   "source": [
    "# Reading the events data, which is store locally\n",
    "# Assuming the events_data file is in the folder named data \n",
    "events_data_df = pd.read_csv('data/events_data.csv', dtype={'device_id': np.str})"
   ]
  },
  {
   "cell_type": "markdown",
   "metadata": {},
   "source": [
    "### Analyzing the data read from various datasources"
   ]
  },
  {
   "cell_type": "code",
   "execution_count": 6,
   "metadata": {},
   "outputs": [
    {
     "data": {
      "text/plain": [
       "(74645, 4)"
      ]
     },
     "execution_count": 6,
     "metadata": {},
     "output_type": "execute_result"
    }
   ],
   "source": [
    "gender_age_train_df.shape"
   ]
  },
  {
   "cell_type": "code",
   "execution_count": 7,
   "metadata": {},
   "outputs": [
    {
     "data": {
      "text/plain": [
       "74645"
      ]
     },
     "execution_count": 7,
     "metadata": {},
     "output_type": "execute_result"
    }
   ],
   "source": [
    "gender_age_train_df.device_id.nunique()"
   ]
  },
  {
   "cell_type": "code",
   "execution_count": 8,
   "metadata": {},
   "outputs": [
    {
     "data": {
      "text/plain": [
       "M23-26    9605\n",
       "M32-38    9476\n",
       "M39+      8581\n",
       "M22-      7488\n",
       "M29-31    7309\n",
       "F33-42    5561\n",
       "M27-28    5445\n",
       "F23-      5050\n",
       "F29-32    4628\n",
       "F43+      4194\n",
       "F24-26    4190\n",
       "F27-28    3118\n",
       "Name: Age_Group, dtype: int64"
      ]
     },
     "execution_count": 8,
     "metadata": {},
     "output_type": "execute_result"
    }
   ],
   "source": [
    "gender_age_train_df.Age_Group.value_counts(sort=True)"
   ]
  },
  {
   "cell_type": "code",
   "execution_count": 9,
   "metadata": {},
   "outputs": [
    {
     "data": {
      "text/html": [
       "<div>\n",
       "<style scoped>\n",
       "    .dataframe tbody tr th:only-of-type {\n",
       "        vertical-align: middle;\n",
       "    }\n",
       "\n",
       "    .dataframe tbody tr th {\n",
       "        vertical-align: top;\n",
       "    }\n",
       "\n",
       "    .dataframe thead th {\n",
       "        text-align: right;\n",
       "    }\n",
       "</style>\n",
       "<table border=\"1\" class=\"dataframe\">\n",
       "  <thead>\n",
       "    <tr style=\"text-align: right;\">\n",
       "      <th></th>\n",
       "      <th>device_id</th>\n",
       "      <th>Gender</th>\n",
       "      <th>Age</th>\n",
       "      <th>Age_Group</th>\n",
       "    </tr>\n",
       "  </thead>\n",
       "  <tbody>\n",
       "    <tr>\n",
       "      <th>count</th>\n",
       "      <td>7.464500e+04</td>\n",
       "      <td>74645</td>\n",
       "      <td>74645.000000</td>\n",
       "      <td>74645</td>\n",
       "    </tr>\n",
       "    <tr>\n",
       "      <th>unique</th>\n",
       "      <td>NaN</td>\n",
       "      <td>2</td>\n",
       "      <td>NaN</td>\n",
       "      <td>12</td>\n",
       "    </tr>\n",
       "    <tr>\n",
       "      <th>top</th>\n",
       "      <td>NaN</td>\n",
       "      <td>M</td>\n",
       "      <td>NaN</td>\n",
       "      <td>M23-26</td>\n",
       "    </tr>\n",
       "    <tr>\n",
       "      <th>freq</th>\n",
       "      <td>NaN</td>\n",
       "      <td>47904</td>\n",
       "      <td>NaN</td>\n",
       "      <td>9605</td>\n",
       "    </tr>\n",
       "    <tr>\n",
       "      <th>mean</th>\n",
       "      <td>-7.491354e+14</td>\n",
       "      <td>NaN</td>\n",
       "      <td>31.410342</td>\n",
       "      <td>NaN</td>\n",
       "    </tr>\n",
       "    <tr>\n",
       "      <th>std</th>\n",
       "      <td>5.327150e+18</td>\n",
       "      <td>NaN</td>\n",
       "      <td>9.868735</td>\n",
       "      <td>NaN</td>\n",
       "    </tr>\n",
       "    <tr>\n",
       "      <th>min</th>\n",
       "      <td>-9.223067e+18</td>\n",
       "      <td>NaN</td>\n",
       "      <td>1.000000</td>\n",
       "      <td>NaN</td>\n",
       "    </tr>\n",
       "    <tr>\n",
       "      <th>25%</th>\n",
       "      <td>-4.617367e+18</td>\n",
       "      <td>NaN</td>\n",
       "      <td>25.000000</td>\n",
       "      <td>NaN</td>\n",
       "    </tr>\n",
       "    <tr>\n",
       "      <th>50%</th>\n",
       "      <td>-1.841362e+16</td>\n",
       "      <td>NaN</td>\n",
       "      <td>29.000000</td>\n",
       "      <td>NaN</td>\n",
       "    </tr>\n",
       "    <tr>\n",
       "      <th>75%</th>\n",
       "      <td>4.636656e+18</td>\n",
       "      <td>NaN</td>\n",
       "      <td>36.000000</td>\n",
       "      <td>NaN</td>\n",
       "    </tr>\n",
       "    <tr>\n",
       "      <th>max</th>\n",
       "      <td>9.222849e+18</td>\n",
       "      <td>NaN</td>\n",
       "      <td>96.000000</td>\n",
       "      <td>NaN</td>\n",
       "    </tr>\n",
       "  </tbody>\n",
       "</table>\n",
       "</div>"
      ],
      "text/plain": [
       "           device_id Gender           Age Age_Group\n",
       "count   7.464500e+04  74645  74645.000000     74645\n",
       "unique           NaN      2           NaN        12\n",
       "top              NaN      M           NaN    M23-26\n",
       "freq             NaN  47904           NaN      9605\n",
       "mean   -7.491354e+14    NaN     31.410342       NaN\n",
       "std     5.327150e+18    NaN      9.868735       NaN\n",
       "min    -9.223067e+18    NaN      1.000000       NaN\n",
       "25%    -4.617367e+18    NaN     25.000000       NaN\n",
       "50%    -1.841362e+16    NaN     29.000000       NaN\n",
       "75%     4.636656e+18    NaN     36.000000       NaN\n",
       "max     9.222849e+18    NaN     96.000000       NaN"
      ]
     },
     "execution_count": 9,
     "metadata": {},
     "output_type": "execute_result"
    }
   ],
   "source": [
    "gender_age_train_df.describe(include='all')"
   ]
  },
  {
   "cell_type": "code",
   "execution_count": 10,
   "metadata": {},
   "outputs": [
    {
     "data": {
      "text/plain": [
       "(87726, 3)"
      ]
     },
     "execution_count": 10,
     "metadata": {},
     "output_type": "execute_result"
    }
   ],
   "source": [
    "phone_brand_device_model_df.shape"
   ]
  },
  {
   "cell_type": "code",
   "execution_count": 11,
   "metadata": {},
   "outputs": [
    {
     "data": {
      "text/plain": [
       "87726"
      ]
     },
     "execution_count": 11,
     "metadata": {},
     "output_type": "execute_result"
    }
   ],
   "source": [
    "phone_brand_device_model_df.device_id.nunique()"
   ]
  },
  {
   "cell_type": "code",
   "execution_count": 12,
   "metadata": {},
   "outputs": [
    {
     "data": {
      "text/html": [
       "<div>\n",
       "<style scoped>\n",
       "    .dataframe tbody tr th:only-of-type {\n",
       "        vertical-align: middle;\n",
       "    }\n",
       "\n",
       "    .dataframe tbody tr th {\n",
       "        vertical-align: top;\n",
       "    }\n",
       "\n",
       "    .dataframe thead th {\n",
       "        text-align: right;\n",
       "    }\n",
       "</style>\n",
       "<table border=\"1\" class=\"dataframe\">\n",
       "  <thead>\n",
       "    <tr style=\"text-align: right;\">\n",
       "      <th></th>\n",
       "      <th>device_id</th>\n",
       "      <th>Brand</th>\n",
       "      <th>Model_Name</th>\n",
       "    </tr>\n",
       "  </thead>\n",
       "  <tbody>\n",
       "    <tr>\n",
       "      <th>count</th>\n",
       "      <td>8.772600e+04</td>\n",
       "      <td>87726</td>\n",
       "      <td>87726</td>\n",
       "    </tr>\n",
       "    <tr>\n",
       "      <th>unique</th>\n",
       "      <td>NaN</td>\n",
       "      <td>116</td>\n",
       "      <td>1467</td>\n",
       "    </tr>\n",
       "    <tr>\n",
       "      <th>top</th>\n",
       "      <td>NaN</td>\n",
       "      <td>小米</td>\n",
       "      <td>红米note</td>\n",
       "    </tr>\n",
       "    <tr>\n",
       "      <th>freq</th>\n",
       "      <td>NaN</td>\n",
       "      <td>21645</td>\n",
       "      <td>3500</td>\n",
       "    </tr>\n",
       "    <tr>\n",
       "      <th>mean</th>\n",
       "      <td>-5.212557e+15</td>\n",
       "      <td>NaN</td>\n",
       "      <td>NaN</td>\n",
       "    </tr>\n",
       "    <tr>\n",
       "      <th>std</th>\n",
       "      <td>5.330157e+18</td>\n",
       "      <td>NaN</td>\n",
       "      <td>NaN</td>\n",
       "    </tr>\n",
       "    <tr>\n",
       "      <th>min</th>\n",
       "      <td>-9.223322e+18</td>\n",
       "      <td>NaN</td>\n",
       "      <td>NaN</td>\n",
       "    </tr>\n",
       "    <tr>\n",
       "      <th>25%</th>\n",
       "      <td>-4.623331e+18</td>\n",
       "      <td>NaN</td>\n",
       "      <td>NaN</td>\n",
       "    </tr>\n",
       "    <tr>\n",
       "      <th>50%</th>\n",
       "      <td>-3.109802e+16</td>\n",
       "      <td>NaN</td>\n",
       "      <td>NaN</td>\n",
       "    </tr>\n",
       "    <tr>\n",
       "      <th>75%</th>\n",
       "      <td>4.635194e+18</td>\n",
       "      <td>NaN</td>\n",
       "      <td>NaN</td>\n",
       "    </tr>\n",
       "    <tr>\n",
       "      <th>max</th>\n",
       "      <td>9.222849e+18</td>\n",
       "      <td>NaN</td>\n",
       "      <td>NaN</td>\n",
       "    </tr>\n",
       "  </tbody>\n",
       "</table>\n",
       "</div>"
      ],
      "text/plain": [
       "           device_id  Brand Model_Name\n",
       "count   8.772600e+04  87726      87726\n",
       "unique           NaN    116       1467\n",
       "top              NaN     小米     红米note\n",
       "freq             NaN  21645       3500\n",
       "mean   -5.212557e+15    NaN        NaN\n",
       "std     5.330157e+18    NaN        NaN\n",
       "min    -9.223322e+18    NaN        NaN\n",
       "25%    -4.623331e+18    NaN        NaN\n",
       "50%    -3.109802e+16    NaN        NaN\n",
       "75%     4.635194e+18    NaN        NaN\n",
       "max     9.222849e+18    NaN        NaN"
      ]
     },
     "execution_count": 12,
     "metadata": {},
     "output_type": "execute_result"
    }
   ],
   "source": [
    "phone_brand_device_model_df.describe(include='all')"
   ]
  },
  {
   "cell_type": "code",
   "execution_count": 13,
   "metadata": {},
   "outputs": [
    {
     "data": {
      "text/plain": [
       "(3252950, 7)"
      ]
     },
     "execution_count": 13,
     "metadata": {},
     "output_type": "execute_result"
    }
   ],
   "source": [
    "events_data_df.shape"
   ]
  },
  {
   "cell_type": "code",
   "execution_count": 14,
   "metadata": {},
   "outputs": [
    {
     "data": {
      "text/plain": [
       "60865"
      ]
     },
     "execution_count": 14,
     "metadata": {},
     "output_type": "execute_result"
    }
   ],
   "source": [
    "events_data_df.device_id.nunique()"
   ]
  },
  {
   "cell_type": "code",
   "execution_count": 15,
   "metadata": {},
   "outputs": [
    {
     "data": {
      "text/html": [
       "<div>\n",
       "<style scoped>\n",
       "    .dataframe tbody tr th:only-of-type {\n",
       "        vertical-align: middle;\n",
       "    }\n",
       "\n",
       "    .dataframe tbody tr th {\n",
       "        vertical-align: top;\n",
       "    }\n",
       "\n",
       "    .dataframe thead th {\n",
       "        text-align: right;\n",
       "    }\n",
       "</style>\n",
       "<table border=\"1\" class=\"dataframe\">\n",
       "  <thead>\n",
       "    <tr style=\"text-align: right;\">\n",
       "      <th></th>\n",
       "      <th>event_id</th>\n",
       "      <th>device_id</th>\n",
       "      <th>timestamp</th>\n",
       "      <th>longitude</th>\n",
       "      <th>latitude</th>\n",
       "      <th>city</th>\n",
       "      <th>state</th>\n",
       "    </tr>\n",
       "  </thead>\n",
       "  <tbody>\n",
       "    <tr>\n",
       "      <th>count</th>\n",
       "      <td>3.252950e+06</td>\n",
       "      <td>3252497</td>\n",
       "      <td>3252950</td>\n",
       "      <td>3.252527e+06</td>\n",
       "      <td>3.252527e+06</td>\n",
       "      <td>3252950</td>\n",
       "      <td>3252573</td>\n",
       "    </tr>\n",
       "    <tr>\n",
       "      <th>unique</th>\n",
       "      <td>NaN</td>\n",
       "      <td>60865</td>\n",
       "      <td>588126</td>\n",
       "      <td>NaN</td>\n",
       "      <td>NaN</td>\n",
       "      <td>933</td>\n",
       "      <td>32</td>\n",
       "    </tr>\n",
       "    <tr>\n",
       "      <th>top</th>\n",
       "      <td>NaN</td>\n",
       "      <td>5536513450525271144</td>\n",
       "      <td>2016-05-03 10:00:03</td>\n",
       "      <td>NaN</td>\n",
       "      <td>NaN</td>\n",
       "      <td>Delhi</td>\n",
       "      <td>Delhi</td>\n",
       "    </tr>\n",
       "    <tr>\n",
       "      <th>freq</th>\n",
       "      <td>NaN</td>\n",
       "      <td>33426</td>\n",
       "      <td>43</td>\n",
       "      <td>NaN</td>\n",
       "      <td>NaN</td>\n",
       "      <td>744276</td>\n",
       "      <td>751733</td>\n",
       "    </tr>\n",
       "    <tr>\n",
       "      <th>mean</th>\n",
       "      <td>1.626476e+06</td>\n",
       "      <td>NaN</td>\n",
       "      <td>NaN</td>\n",
       "      <td>7.815868e+01</td>\n",
       "      <td>2.168851e+01</td>\n",
       "      <td>NaN</td>\n",
       "      <td>NaN</td>\n",
       "    </tr>\n",
       "    <tr>\n",
       "      <th>std</th>\n",
       "      <td>9.390459e+05</td>\n",
       "      <td>NaN</td>\n",
       "      <td>NaN</td>\n",
       "      <td>4.235570e+00</td>\n",
       "      <td>5.789111e+00</td>\n",
       "      <td>NaN</td>\n",
       "      <td>NaN</td>\n",
       "    </tr>\n",
       "    <tr>\n",
       "      <th>min</th>\n",
       "      <td>1.000000e+00</td>\n",
       "      <td>NaN</td>\n",
       "      <td>NaN</td>\n",
       "      <td>1.256700e+01</td>\n",
       "      <td>8.190110e+00</td>\n",
       "      <td>NaN</td>\n",
       "      <td>NaN</td>\n",
       "    </tr>\n",
       "    <tr>\n",
       "      <th>25%</th>\n",
       "      <td>8.132382e+05</td>\n",
       "      <td>NaN</td>\n",
       "      <td>NaN</td>\n",
       "      <td>7.583543e+01</td>\n",
       "      <td>1.780171e+01</td>\n",
       "      <td>NaN</td>\n",
       "      <td>NaN</td>\n",
       "    </tr>\n",
       "    <tr>\n",
       "      <th>50%</th>\n",
       "      <td>1.626476e+06</td>\n",
       "      <td>NaN</td>\n",
       "      <td>NaN</td>\n",
       "      <td>7.726814e+01</td>\n",
       "      <td>2.216454e+01</td>\n",
       "      <td>NaN</td>\n",
       "      <td>NaN</td>\n",
       "    </tr>\n",
       "    <tr>\n",
       "      <th>75%</th>\n",
       "      <td>2.439713e+06</td>\n",
       "      <td>NaN</td>\n",
       "      <td>NaN</td>\n",
       "      <td>8.031916e+01</td>\n",
       "      <td>2.868278e+01</td>\n",
       "      <td>NaN</td>\n",
       "      <td>NaN</td>\n",
       "    </tr>\n",
       "    <tr>\n",
       "      <th>max</th>\n",
       "      <td>3.252950e+06</td>\n",
       "      <td>NaN</td>\n",
       "      <td>NaN</td>\n",
       "      <td>9.545946e+01</td>\n",
       "      <td>4.187190e+01</td>\n",
       "      <td>NaN</td>\n",
       "      <td>NaN</td>\n",
       "    </tr>\n",
       "  </tbody>\n",
       "</table>\n",
       "</div>"
      ],
      "text/plain": [
       "            event_id            device_id            timestamp     longitude  \\\n",
       "count   3.252950e+06              3252497              3252950  3.252527e+06   \n",
       "unique           NaN                60865               588126           NaN   \n",
       "top              NaN  5536513450525271144  2016-05-03 10:00:03           NaN   \n",
       "freq             NaN                33426                   43           NaN   \n",
       "mean    1.626476e+06                  NaN                  NaN  7.815868e+01   \n",
       "std     9.390459e+05                  NaN                  NaN  4.235570e+00   \n",
       "min     1.000000e+00                  NaN                  NaN  1.256700e+01   \n",
       "25%     8.132382e+05                  NaN                  NaN  7.583543e+01   \n",
       "50%     1.626476e+06                  NaN                  NaN  7.726814e+01   \n",
       "75%     2.439713e+06                  NaN                  NaN  8.031916e+01   \n",
       "max     3.252950e+06                  NaN                  NaN  9.545946e+01   \n",
       "\n",
       "            latitude     city    state  \n",
       "count   3.252527e+06  3252950  3252573  \n",
       "unique           NaN      933       32  \n",
       "top              NaN    Delhi    Delhi  \n",
       "freq             NaN   744276   751733  \n",
       "mean    2.168851e+01      NaN      NaN  \n",
       "std     5.789111e+00      NaN      NaN  \n",
       "min     8.190110e+00      NaN      NaN  \n",
       "25%     1.780171e+01      NaN      NaN  \n",
       "50%     2.216454e+01      NaN      NaN  \n",
       "75%     2.868278e+01      NaN      NaN  \n",
       "max     4.187190e+01      NaN      NaN  "
      ]
     },
     "execution_count": 15,
     "metadata": {},
     "output_type": "execute_result"
    }
   ],
   "source": [
    "events_data_df.describe(include='all')"
   ]
  },
  {
   "cell_type": "markdown",
   "metadata": {},
   "source": [
    "### Getting Missing Data from datasources"
   ]
  },
  {
   "cell_type": "code",
   "execution_count": 16,
   "metadata": {},
   "outputs": [
    {
     "data": {
      "text/html": [
       "<div>\n",
       "<style scoped>\n",
       "    .dataframe tbody tr th:only-of-type {\n",
       "        vertical-align: middle;\n",
       "    }\n",
       "\n",
       "    .dataframe tbody tr th {\n",
       "        vertical-align: top;\n",
       "    }\n",
       "\n",
       "    .dataframe thead th {\n",
       "        text-align: right;\n",
       "    }\n",
       "</style>\n",
       "<table border=\"1\" class=\"dataframe\">\n",
       "  <thead>\n",
       "    <tr style=\"text-align: right;\">\n",
       "      <th></th>\n",
       "      <th>Total</th>\n",
       "      <th>Percent</th>\n",
       "    </tr>\n",
       "  </thead>\n",
       "  <tbody>\n",
       "    <tr>\n",
       "      <th>Age_Group</th>\n",
       "      <td>0</td>\n",
       "      <td>0.0</td>\n",
       "    </tr>\n",
       "    <tr>\n",
       "      <th>Age</th>\n",
       "      <td>0</td>\n",
       "      <td>0.0</td>\n",
       "    </tr>\n",
       "    <tr>\n",
       "      <th>Gender</th>\n",
       "      <td>0</td>\n",
       "      <td>0.0</td>\n",
       "    </tr>\n",
       "    <tr>\n",
       "      <th>device_id</th>\n",
       "      <td>0</td>\n",
       "      <td>0.0</td>\n",
       "    </tr>\n",
       "  </tbody>\n",
       "</table>\n",
       "</div>"
      ],
      "text/plain": [
       "           Total  Percent\n",
       "Age_Group      0      0.0\n",
       "Age            0      0.0\n",
       "Gender         0      0.0\n",
       "device_id      0      0.0"
      ]
     },
     "execution_count": 16,
     "metadata": {},
     "output_type": "execute_result"
    }
   ],
   "source": [
    "missing_data(gender_age_train_df)"
   ]
  },
  {
   "cell_type": "code",
   "execution_count": 17,
   "metadata": {},
   "outputs": [
    {
     "data": {
      "text/html": [
       "<div>\n",
       "<style scoped>\n",
       "    .dataframe tbody tr th:only-of-type {\n",
       "        vertical-align: middle;\n",
       "    }\n",
       "\n",
       "    .dataframe tbody tr th {\n",
       "        vertical-align: top;\n",
       "    }\n",
       "\n",
       "    .dataframe thead th {\n",
       "        text-align: right;\n",
       "    }\n",
       "</style>\n",
       "<table border=\"1\" class=\"dataframe\">\n",
       "  <thead>\n",
       "    <tr style=\"text-align: right;\">\n",
       "      <th></th>\n",
       "      <th>Total</th>\n",
       "      <th>Percent</th>\n",
       "    </tr>\n",
       "  </thead>\n",
       "  <tbody>\n",
       "    <tr>\n",
       "      <th>Model_Name</th>\n",
       "      <td>0</td>\n",
       "      <td>0.0</td>\n",
       "    </tr>\n",
       "    <tr>\n",
       "      <th>Brand</th>\n",
       "      <td>0</td>\n",
       "      <td>0.0</td>\n",
       "    </tr>\n",
       "    <tr>\n",
       "      <th>device_id</th>\n",
       "      <td>0</td>\n",
       "      <td>0.0</td>\n",
       "    </tr>\n",
       "  </tbody>\n",
       "</table>\n",
       "</div>"
      ],
      "text/plain": [
       "            Total  Percent\n",
       "Model_Name      0      0.0\n",
       "Brand           0      0.0\n",
       "device_id       0      0.0"
      ]
     },
     "execution_count": 17,
     "metadata": {},
     "output_type": "execute_result"
    }
   ],
   "source": [
    "missing_data(phone_brand_device_model_df)"
   ]
  },
  {
   "cell_type": "code",
   "execution_count": 18,
   "metadata": {},
   "outputs": [
    {
     "data": {
      "text/html": [
       "<div>\n",
       "<style scoped>\n",
       "    .dataframe tbody tr th:only-of-type {\n",
       "        vertical-align: middle;\n",
       "    }\n",
       "\n",
       "    .dataframe tbody tr th {\n",
       "        vertical-align: top;\n",
       "    }\n",
       "\n",
       "    .dataframe thead th {\n",
       "        text-align: right;\n",
       "    }\n",
       "</style>\n",
       "<table border=\"1\" class=\"dataframe\">\n",
       "  <thead>\n",
       "    <tr style=\"text-align: right;\">\n",
       "      <th></th>\n",
       "      <th>Total</th>\n",
       "      <th>Percent</th>\n",
       "    </tr>\n",
       "  </thead>\n",
       "  <tbody>\n",
       "    <tr>\n",
       "      <th>device_id</th>\n",
       "      <td>453</td>\n",
       "      <td>0.013926</td>\n",
       "    </tr>\n",
       "    <tr>\n",
       "      <th>latitude</th>\n",
       "      <td>423</td>\n",
       "      <td>0.013004</td>\n",
       "    </tr>\n",
       "    <tr>\n",
       "      <th>longitude</th>\n",
       "      <td>423</td>\n",
       "      <td>0.013004</td>\n",
       "    </tr>\n",
       "    <tr>\n",
       "      <th>state</th>\n",
       "      <td>377</td>\n",
       "      <td>0.011589</td>\n",
       "    </tr>\n",
       "    <tr>\n",
       "      <th>city</th>\n",
       "      <td>0</td>\n",
       "      <td>0.000000</td>\n",
       "    </tr>\n",
       "    <tr>\n",
       "      <th>timestamp</th>\n",
       "      <td>0</td>\n",
       "      <td>0.000000</td>\n",
       "    </tr>\n",
       "    <tr>\n",
       "      <th>event_id</th>\n",
       "      <td>0</td>\n",
       "      <td>0.000000</td>\n",
       "    </tr>\n",
       "  </tbody>\n",
       "</table>\n",
       "</div>"
      ],
      "text/plain": [
       "           Total   Percent\n",
       "device_id    453  0.013926\n",
       "latitude     423  0.013004\n",
       "longitude    423  0.013004\n",
       "state        377  0.011589\n",
       "city           0  0.000000\n",
       "timestamp      0  0.000000\n",
       "event_id       0  0.000000"
      ]
     },
     "execution_count": 18,
     "metadata": {},
     "output_type": "execute_result"
    }
   ],
   "source": [
    "missing_data(events_data_df)"
   ]
  },
  {
   "cell_type": "markdown",
   "metadata": {},
   "source": [
    "#### Checking unique values in each column for various data frames"
   ]
  },
  {
   "cell_type": "code",
   "execution_count": 19,
   "metadata": {},
   "outputs": [
    {
     "data": {
      "text/plain": [
       "device_id    74645\n",
       "Gender           2\n",
       "Age             85\n",
       "Age_Group       12\n",
       "dtype: int64"
      ]
     },
     "execution_count": 19,
     "metadata": {},
     "output_type": "execute_result"
    }
   ],
   "source": [
    "gender_age_train_df.nunique()"
   ]
  },
  {
   "cell_type": "code",
   "execution_count": 20,
   "metadata": {},
   "outputs": [
    {
     "data": {
      "text/plain": [
       "device_id     87726\n",
       "Brand           116\n",
       "Model_Name     1467\n",
       "dtype: int64"
      ]
     },
     "execution_count": 20,
     "metadata": {},
     "output_type": "execute_result"
    }
   ],
   "source": [
    "phone_brand_device_model_df.nunique()"
   ]
  },
  {
   "cell_type": "code",
   "execution_count": 21,
   "metadata": {},
   "outputs": [
    {
     "data": {
      "text/plain": [
       "event_id     3252950\n",
       "device_id      60865\n",
       "timestamp     588126\n",
       "longitude      60095\n",
       "latitude       60185\n",
       "city             933\n",
       "state             32\n",
       "dtype: int64"
      ]
     },
     "execution_count": 21,
     "metadata": {},
     "output_type": "execute_result"
    }
   ],
   "source": [
    "events_data_df.nunique()"
   ]
  },
  {
   "cell_type": "markdown",
   "metadata": {},
   "source": [
    "### Analysis on Missing data from events data"
   ]
  },
  {
   "cell_type": "code",
   "execution_count": 22,
   "metadata": {},
   "outputs": [
    {
     "data": {
      "text/plain": [
       "event_id  device_id             timestamp            longitude  latitude   city       state        \n",
       "3252950   -4383315854394153449  2016-05-07 23:20:08  79.172943  13.017156  Velluru    TamilNadu        1\n",
       "1084334   2237921149420055154   2016-05-03 09:21:33  75.910331  22.768655  Indore     MadhyaPradesh    1\n",
       "1084332   969634985145229996    2016-05-03 09:27:53  80.293548  13.188370  Chennai    TamilNadu        1\n",
       "1084331   -4988638036225877537  2016-05-03 09:11:19  77.613337  13.056750  Bangalore  Karnataka        1\n",
       "1084330   3626734845163810822   2016-05-03 09:10:54  89.530936  26.362451  KochBihar  WestBengal       1\n",
       "                                                                                                      ..\n",
       "2168612   4891500938696877919   2016-05-06 21:02:16  73.914889  18.587531  Pune       Maharashtra      1\n",
       "2168611   5025286536641049649   2016-05-06 21:07:00  73.939161  18.561320  Pune       Maharashtra      1\n",
       "2168610   -3293430962013612634  2016-05-06 21:01:48  88.398977  22.669054  Calcutta   WestBengal       1\n",
       "2168609   -3905586017308814322  2016-05-06 21:39:20  77.114421  13.398029  Tumkur     Karnataka        1\n",
       "1         29182687948017175     2016-05-01 00:55:25  77.266049  28.681610  Delhi      Delhi            1\n",
       "Length: 3251697, dtype: int64"
      ]
     },
     "execution_count": 22,
     "metadata": {},
     "output_type": "execute_result"
    }
   ],
   "source": [
    "events_data_df.value_counts()"
   ]
  },
  {
   "cell_type": "markdown",
   "metadata": {},
   "source": [
    "#### Checking missing data of various columns based on City as City column does not have any missing values"
   ]
  },
  {
   "cell_type": "code",
   "execution_count": 23,
   "metadata": {},
   "outputs": [
    {
     "data": {
      "text/plain": [
       "Jaipur           66\n",
       "Chennai          63\n",
       "Indore           63\n",
       "Visakhapatnam    63\n",
       "Pune             63\n",
       "Delhi            63\n",
       "Moga             14\n",
       "Bagaha           14\n",
       "Araria           14\n",
       "Name: city, dtype: int64"
      ]
     },
     "execution_count": 23,
     "metadata": {},
     "output_type": "execute_result"
    }
   ],
   "source": [
    "events_data_df[events_data_df.latitude.isnull()]['city'].value_counts()"
   ]
  },
  {
   "cell_type": "code",
   "execution_count": 24,
   "metadata": {},
   "outputs": [
    {
     "data": {
      "text/plain": [
       "Jaipur           66\n",
       "Chennai          63\n",
       "Indore           63\n",
       "Visakhapatnam    63\n",
       "Pune             63\n",
       "Delhi            63\n",
       "Moga             14\n",
       "Bagaha           14\n",
       "Araria           14\n",
       "Name: city, dtype: int64"
      ]
     },
     "execution_count": 24,
     "metadata": {},
     "output_type": "execute_result"
    }
   ],
   "source": [
    "events_data_df[events_data_df.longitude.isnull()]['city'].value_counts()"
   ]
  },
  {
   "cell_type": "code",
   "execution_count": 25,
   "metadata": {},
   "outputs": [
    {
     "data": {
      "text/plain": [
       "Delhi            64\n",
       "Pune             63\n",
       "Indore           51\n",
       "Jaipur           49\n",
       "Chennai          47\n",
       "Visakhapatnam    47\n",
       "Gangarampur      26\n",
       "Arambagh         16\n",
       "Channapatna      14\n",
       "Name: city, dtype: int64"
      ]
     },
     "execution_count": 25,
     "metadata": {},
     "output_type": "execute_result"
    }
   ],
   "source": [
    "events_data_df[events_data_df.state.isnull()]['city'].value_counts()"
   ]
  },
  {
   "cell_type": "code",
   "execution_count": 26,
   "metadata": {},
   "outputs": [
    {
     "data": {
      "text/plain": [
       "Jaipur           81\n",
       "Pune             72\n",
       "Visakhapatnam    69\n",
       "Delhi            69\n",
       "Chennai          63\n",
       "Indore           51\n",
       "Hoshiarpur       16\n",
       "Jetpur           16\n",
       "Bardoli          16\n",
       "Name: city, dtype: int64"
      ]
     },
     "execution_count": 26,
     "metadata": {},
     "output_type": "execute_result"
    }
   ],
   "source": [
    "events_data_df[events_data_df.device_id.isnull()]['city'].value_counts()"
   ]
  },
  {
   "cell_type": "markdown",
   "metadata": {},
   "source": [
    "#### Checking common Unique device id's between each data frames"
   ]
  },
  {
   "cell_type": "code",
   "execution_count": 27,
   "metadata": {},
   "outputs": [],
   "source": [
    "genderage_device_set = set(gender_age_train_df['device_id'].astype(str).unique())\n",
    "phone_brand_device_set = set(phone_brand_device_model_df['device_id'].astype(str).unique())\n",
    "events_device_set = set(events_data_df['device_id'].unique())\n",
    "\n",
    "int_pb_ga_set = genderage_device_set.intersection(phone_brand_device_set).intersection(events_device_set)\n",
    "common_devices_set = events_device_set.intersection(int_pb_ga_set)\n",
    "#common_devices_set = genderage_device_set.intersection(phone_brand_device_set).intersection(events_device_set)"
   ]
  },
  {
   "cell_type": "code",
   "execution_count": 37,
   "metadata": {},
   "outputs": [
    {
     "name": "stdout",
     "output_type": "stream",
     "text": [
      "Gender Age count : 74645\n",
      "Phone Brand Count : 87726\n",
      "Events Device Count : 60866\n",
      "Common devices between Gender Age and Phone Brand Datasets is :  60865\n",
      "Common devices between all 3 Datasets is :  60865\n"
     ]
    }
   ],
   "source": [
    "print(\"Gender Age count : {0}\\nPhone Brand Count : {1}\\nEvents Device Count : {2}\".format(len(genderage_device_set), len(phone_brand_device_set), len(events_device_set)))\n",
    "print(\"Common devices between Gender Age and Phone Brand Datasets is : \", len(int_pb_ga_set))\n",
    "print(\"Common devices between all 3 Datasets is : \", len(common_devices_set))"
   ]
  },
  {
   "cell_type": "code",
   "execution_count": null,
   "metadata": {},
   "outputs": [],
   "source": []
  },
  {
   "cell_type": "markdown",
   "metadata": {},
   "source": [
    "## Week 2 activities"
   ]
  },
  {
   "cell_type": "markdown",
   "metadata": {},
   "source": [
    "### Convert the Chinese names of brand and Model to respective English names"
   ]
  },
  {
   "cell_type": "code",
   "execution_count": 29,
   "metadata": {},
   "outputs": [],
   "source": [
    "brand_list_chinese = list(phone_brand_device_model_df['Brand'].unique())\n",
    "model_list_chinese = list(phone_brand_device_model_df['Model_Name'].unique())"
   ]
  },
  {
   "cell_type": "code",
   "execution_count": 30,
   "metadata": {},
   "outputs": [],
   "source": [
    "# Model and Brand names are converted to English names using Google Translator manually\n",
    "brand_list_eng = ['vivo', 'Xiaomi', 'OPPO', 'Samsung', 'Coolpad', 'Lenovo', 'Huawei', 'Qiku', 'Meizu', 'Phixun', 'China Mobile', 'HTC', 'Tianyu', 'Extreme Bao', 'LG', 'Oberxin', 'Yumi', 'ZUK', 'Nubia', 'HP', 'Nibiru', 'Meitu', 'Xiangmi', 'Motorola', 'Mengmi', 'Hammer', 'InFocus', 'LeTV', 'Hisense', 'Bai Li Feng', 'OnePlus', 'Yuxin', 'Haier', 'Cubbie', 'Newman', 'Bird', 'Dove', 'Lingyun', 'TCL', 'Copper', 'Aipel', 'LOGO', 'green onion', 'fruit rice', 'ASUS', 'Onda', 'Aiyouni', 'Konka', 'Yougo', 'Banghua', 'Cyber Yuhua', 'Black Rice', 'Lovme', 'Pioneer', 'E School', 'Shenzhou', 'Nokia', 'Pnair', 'Candy Gourd', 'Yitong', 'Ouxin', 'Mickey', 'Coolby Rubik\\'s Cube', 'Blue Devils', 'Little Poplar', 'Bairfeng', 'Nuo Mi', 'Mi Song', 'E People E Book', 'Simi', 'BigQ', 'Taipower', 'Philips', 'Weimi', 'Daxian', 'Changhong', 'Vitu', 'Green Orange', 'Originally', 'Xia Mi', 'Amoi', 'Wei Mi', 'Bajia', 'SUGAR', 'Ouqi', 'Century Star', 'Zhimei', 'Obi', 'Kivu', 'Femtosecond', 'Desai', 'Yipai', 'Google', 'Venus Digital', 'Guangxin', 'Noah Xin', 'MIL', 'White Rice', 'Coke', 'Baojiexun', 'Youyu', 'First Cloud', 'Rimei', 'Rigao', 'Wopfung', 'Mole', 'Fresh Rice', 'Kailyton', 'Weibi', 'Ouwo', 'Fengmi', 'Hengyufeng', 'Ox', 'Siemens', 'Orlandi', 'PPTV']\n",
    "model_list_eng = ['Y13','V183','R7s','A368t','Redmi Note2','Redmi Note3','S5.1','Galaxy Grand Prime','MI 2S','Galaxy Note 2 ','R1C','Great God F1Plus','note top version','Galaxy Mega 2','Star No. 1','Galaxy S4','MI 3','Find 7','C8816', ' Redmi note','X6 L','Galaxy Win','Youth Edition','MX3','Y35','G520-5000','Honor 4A','Charming Blue Note 2','Y560-CL00 ','Honor 7i', '3000','Honor Play 4C','C730Lw','Redmi 2A','A1','One','Galaxy J7','R3','MX2', ' Honor Play 5','Honor 7','MI 4','One M8','Redmi 1S','Maimang 4','Galaxy S6 Edge','A3800d','P780','Ascend G7' ,'Honor 6','Xperia SL','Y17T','Honor Play 4X','Ascend P7','Galaxy Grand 2','Honor 3X Play Edition','Honor X2','Ascend P8' ,'R2017','Charm Blue NOTE','Mate 2','M8','T87+','X710L','A890e','R7','X5M','MX5','Galaxy Mega 5.8', 'L81','Xperia Z1','Honor 6 Plus','X5Max+','Galaxy J5','Galaxy Note 4','A31','GN706L','G3','P8 Lite','Sensation XE with Beats Audio Z715e','A880','Honor+','X5L', '8720L','IVO 6655','R7 Plus','Honor Play 4','MX4','Y635-TL00', 'Galaxy S3','X3L', '3','R807','Golden Fighter A8','One X','Xiaomi note','R6007','Galaxy S2 Plus ','R1','Honor 3C','Mi 4C','R823T','Mate 7','MI 2','F2','Galaxy S5','Xperia TX','Galaxy Trend DUOS 2' ,'Z1','Y11IT','Redmi Note Enhanced Edition','Tianjian W900','Ascend G700T','Galaxy Note 3','Galaxy R','F301','Honor Play 5X', 'N1 Mini','Find 5','Redmi 2','X5Pro','X5V','A11','MI pad','Z7 Mini','Galaxy Note 5','MediaPad M2-801W' ,'Galaxy Grand Neo Plus','Ascend GX1','R817','X3T','Galaxy E7','X817','GN700W','Y20T','A680','Y27', '5891', '大神F1','UIMI3','Compaq 7','G628','IVO 6622','B199','Galaxy Trend 3','X1ST','S7568I','C8818','Y622', ' Charm Blue 2','Mate 7 Youth Edition', '1107','Galaxy S2','Le Meng K3 Note','Galaxy S4 Zoom','Galaxy Ace Dear','Mars One','Le Meng K3 ','Ascend P1','R831T','M9','U9508','X5Max', '2','X8888','Lenovo Gold Fighter S8','S60t','Great God F2','Xplay3S' ,'R1S','Y60-C1','Nexus 5','UIMI4','R809T','Q507T','Moto X Style','A788t','Charm Blue','Y13iL','Honor 6 plus','G610S','N1T','X1 7.0','Y613F','Galaxy A7','N1','Y23L','Great God F2 Full HD Edition','Inspiration XL','Ultimate Edition','Y927','Z9 mini','X3S','Y15','R831S','R815T','R819T','Galaxy Core Prime','Butterfly','Galaxy Style DUOS','Xperia S','Galaxy Note 3 Lite','P6','S7','Galaxy S6','Nut Phone','M210','S7I' ,'A51','X907','Redmi','Y33','Super Phone 1 Pro','Galaxy Grand DUOS','Xperia Z5','G620-L75','Enjoy 5','Xplay ','MX4 Pro','Galaxy S6 Edge+', '8185','G3588V','Y937','T528t','Galaxy A8','N3','G610T','S7T','V5 Max' ,'MI One Plus','S90-t','Xperia Z3 mini', '8105', '7270-W00','M8St','Desire 820','A750','S898t','Memorial Blue metal ','P970','Galaxy Mega 6.3', '5890','Z9 Max','PRO5','X5SL','Y29L','E602T','GN150', '8190Q','E620M', ' Super phone 1', '8702D','Galaxy Grand','Galaxy Note','U960E','Grand X','Xperia arc S','T708','X','T50','GN128', 'Super Phone 1s','L700T','Galaxy A5','F103S', '5951','H1','A820','G7200','Honor U8860','Button','LT01','Y11 ','Y635','Honor Play Tablet T1','Xperia Neo','G7 Plus','Y13L','HT-I860', '8056','EVO 3D X515m','Red Pepper X1', 'Galaxy A3','Spring Thunder HD','Galaxy S 2 HD LTE E120S','L5Pro','ivvi Xiaoi','Honor Play 4C Sports Edition','Maimang 3','Ascend G700','Xiaoxian 2','Nexus 4','R827T', 'G520-0000','Ascend P6','ELIFE E3T','Daqi 2', '5950','Q519T','Galaxy Tab P6800','A398t','Fengshang','Z5S', ' Y511-T00','MI One C1', '8085q','A3900','M4','L1 mini','V188S','大神X7','Grand X Quad','A320t','G2' ,'Galaxy Core Advance','Y28L','Y22IL','Little Apple','SHV-E210L','Lewan','F103','Y928','Galaxy Ace 3','R821T', ' Great God Note3','MI 2A','Moto X','Y321C','Xperia Z2','I9118', '8750','K860i','G730-C00','A708t','A670t', ' S658t','Galaxy On7','Desire 820 Mini','Galaxy Ace','T1','A33', '603e','LT416','G11','S7568','T528w', '6607' ,'Momada 3N', '8730L','M2','Y11IW','W2015','Fengshang Pro','R830','ELIFE S5.5','Q505T', '9190l', ' Galaxy Note Edge','Touch 2C','Red Pepper','X3F','Y913','Galaxy Trend DUOS','Optimus G', '7296','R5','M512','Galaxy On5' , '7105','Galaxy S3 Neo+','G520-T10','VIBE X','Mate 8','S1','MI 1S', '5263','S2y','A369','Grand Memo 2','G750-T20','Y923','M032','R8205','A688t','Honor 3X','Samsung big foot','Touch 2 ','Galaxy Premier','Y37','U956','S810t','HN3-U01','S650','L128','IPH8','Honor 3C Play Edition', '1100', ' S5830I','X6 Plus D','G606','B9388','Desire 826','A5800-D','Galaxy Core Lite','MI pad 2','A360t','SM-T705C', 'G4','ono','Find','Galaxy Core Max','ivvi Small Bone Pro','A53','G718C','Red Pepper XM','V5S', '3007','D800', 'X6 Plus','S12','I779','Y1','Yuanhang 3','My Prague','Y18L','Blade S6 Lux','H1S','GN715','metal Standard Edition' ,'U879','Desire 7088','U930HD','Galaxy Note 10.1','G3818','Changxiang 5S','U701','X6 D','MediaPad M2-803L','Blade A1' ,'Galaxy Nexus','Desire 610t','Y19T','Red Pepper Note','Fengshang Max','Galaxy S L', '2016 Version Galaxy A9','Galaxy S3 Mini','GN152', 'Desire 816','VIBE X2','A516','S7898','Red Bull V5','Moto X Pro','Y13T', '2016 Galaxy A5','S11T','VIBE Z2', ' A7', '7270','S6','Xperia C', '7295','锋尚2','V4','M5','H5','R833T','Grand S 2','G510 ','C8817E', '5263S','Y22L','S8 20','Y51','Golden Steel','T329t', '7298D','Wildfire S','Galaxy J3','iPh-800','C8815','P335M','S5.5L', '1105', '8729','T328w','Xperia Z','W2014','Galaxy Mega Plus','G660-L075', '5200S','Y613','Mate S','A298t', 'Galaxy Tab 3 8.0','T20L','U880F1', '2016 Galaxy A7','X8T','Two','N1 max','Red Rice 3','R820','Little Pepper X3' ,'L920','One S','Ulike2','A376', '8029','U707T','Galaxy Win Pro','Z5S Mini','ZenFone Max','E601M','GN708T','Xperia C3', 'I8268','Galaxy Tab 3 10.1','ZenFone 2','Honor Tablet T1-823L','Y600D','S2L','Galaxy Tab 2 P3100', '8122','Y518-T00', ' V819 3G','D2-M','A580','U3','S720','Xperia acro S','X3V','GN151','X6', '5891Q', '5956','P316L ',':UOOGOUT1','Y516','C8816D', '7269','Galaxy S7 Edge','U11','SOP M3','A828t','Y3T','大神Note', '7295C' ,'A850','U705T','A390','Galaxy Tab P3108','A789','E1T','A2800d', '7295A Youth Edition','MI 2C','M031','C8813', 'A199', '795+','E6', '802w','Xperia T','D500', '5219','R813T','D350', '8190', '7231','A678t', 'Galaxy Note 8.0','A380t','A820t', '7372','X1','E1','X1S', '8195','MT1-U06','Y600-U00','S890', 'HS-U978','H7','Y320','Xperia P','Galaxy Ace 2','S920','Q705U','U817','T2','S9','V719', ' A356','EG939','A388t','R811','V1','L22', '8720','S850t','S3+','V182','M100','P770','iSuper S2 ','A798t','T9','C8813Q','EG978 ','Galaxy S Advance', '7620l', '8702','MI 4S', '8705','T29','Y17W','K68w','Xshot','Ascend G6','G730-T00 ','GN700T','Big Q Note','P880','X50TS','M811','X68T','A390t','X6666','Y618-T00','ZenFone 5','IdeaTab A5000 -E','Galaxy Ace Plus','M1','Galaxy Tab S T705C','Galaxy Tab 4 T231','G730-U00','U809','MI 5','V8','VIBE Z ','XL','MOMO9','M310','Galaxy Core Mini','GN5001S','Momada','Y330','Little Pepper M2','IVO 6600','Golden Fighter Note8' ,'Galaxy Trend 2','Mate', '7295+', '7320','U930','Y300','U7','A660','T3','P308L','U969','Xperia Z Ultra','T91','Hyunying S+','Galaxy Tab 7.0 Plus','M701','A658t','Moto G','P331M','P700i','N798+', '7235', 'Galaxy S4 Active','E7','Xperia Z3','S720i','TAB 2 A7-30','P1', '8085n','S5300','V987','Grand Memo','K1 ','L7','P520L','P700','Galaxy S4 Mini','Fenghua 3','Xperia SP','V70','MT2-C00','Xperia ion', '7268', '5892','G521','M6-M7', ' TALK 7X Quad Core','i9','V889D','iSuper S1', '7236','T9108','MM1101','L810','Xperia T2 Ultra','U960S3','Touch 3', '7230','Galaxy Gio','U9815', '8012','A630t','V818','Galaxy J1','Galaxy Fame','A800','T958','A820e','A278t' ,'N1W','Y500','U960S', '9976A','GN100','X805', '8295M','C8817L','A505e', '8198T','GN137','U51GT-W' ,'K900','ME371MG','A520','J738M','A766', '5860A','R9','S696', '9180','S868t','TALK 9X','Optimus LTE' ,'G615-U10','A830','Galaxy Core 4G','Y511-U00','V185', '2016 version Galaxy J7','Y80D','天鑑T1','G716','Galaxy W','R830S','Y22','A850+','U795+','R8000','E5','GN9002','E6T','Galaxy J', '5217','Z9','Saturn One','W999','XT615','Y627','Vibe Z2 Pro','Maimang 3S', '8079','Q802T','W2013','BF T18','N910C','E912S ', '8295','L9','A770e','Q501U','SCH-I939','G6-U00','L1','E3','A698t','A765e','Xperia Z3+ Dual ','A3000-H','Y623','G717C', 'Pegasus','T329d','T8620','S9T', '3S','ivvi K1 mini','S5831I','Lenovo VIBE X2', '7296S','U966','A785e', ' T328t','T7','Mighty 3','P8max','E70-T','E8','R9 Plus','P306C','One E8','Q503U','Galaxy S2 Epic 4G Touch ','P9', '201','Droid Ultra','T80','M812C','V955', '3005','Red Pepper Willpower Plus','L5 Plus','Galaxy Alpha', ' S938t','XT1060','U950','A2580','S899t','VS980','U980','C8650','S850','U2','Vibe Shot','Desire 626', ' X2','Z7 Max','Galaxy Mini','A750e','T619+','S7566','Little Pepper 9','Galaxy Core 2','R805','GN305','C8812','A760','Grand View 4','A399','Super Phone Max','Galaxy K Zoom','R5s plus','P332U','N910U','Star 2','Blade S6', ' V956','Thunder Fighter','EG970','S5.1Pro','MI 1','X80HD','A858t','V526','Y628','G610C','R801','Y3100' ,'Touch 3c','威武3C','F303','One max', '5360','A560', '8021','Galaxy Golden','I9050', '7i','Qingcheng L3', 'M20-T','E613M','G730-L075','Galaxy S Plus', '8085','Z9 mini Elite Edition','Little Pepper S1', '8721','S686','S858t' ,'P705','L8','Little Pepper 5','G3609','E75T','Optimus G Pro','Galaxy Tab 3 Lite T111','R817T','T03 Fengzhi Edition','N909 ','乐玩2C','GN708W','C630Lw','VT898','One M9+','Nexus S','A7-30','S930','P70','C230w','Desire 616', '7260','AxonMini', '8712S','GT7','Galaxy Tab 4 T331C','One E9','Momada 3S','N1-Y','Y31','V5 ','Lemon K31','Golden Fighter S8 Play Edition','SM-T325','Galaxy Trend','IdeaTab A2207A-H','A318t','U807','XT910','A706' ,'A330e','D520','K860','A8-50','SM-T2558', '8295c','ELIFE E6 mini','A630','Grand Era','TL1000','Z5 ','S5000','C8813DQ','T9508','R2010','Q201T','N821','idol X','DROID RAZR','G6-C00','ELIFE E7 Mini','A5','Ascend D2','V967S','X5','GN168t','YOGA Tablet B6000','G3819D' ,'Galaxy Tab 2 P5110','V6','Y320T','A288t','Touch V','Fashion Phone','A628t','OKU3','I8258','Galaxy Tab 3 7.0', ' Defy+','P301M', '5872','V9', '8732', '8070','Galaxy Y', '7060','S2','GT-I8160','T967','A3300-T ','T5','Tab2 A7-10F','A308t','Galaxy Tab Pro T321','V975s Core4','Desire S','L168','R850','GN705T', '7251', 'M601','U5482','S90-u','Xperia U','U880','D330','C986t','EV5','T528d','G630','A656','S660' ,'T60','Y325','Q7','I95', '8089','Galaxy S', '5832','G525','Desire 310','EG966','V10','大神1s ','GN135','S3','M10-M','A378t','A889','s820e', '5860S', '8076D', '8017','Butterfly s','M6','Xperia ZR', '608t','GN810','N986','Blade C', '7019','N828','S880i','M030','G616- L076','A208t','GN139','VT898S','U939','Q301C','Galaxy Ace DUOS','A269i','GN878','One M8 Eye','A238t','VT868' ,'A398t+','Q701C','TS1018','N818','T20', '8707','S8-701u','Desire 5088', '8017-T00','M8x','T327w', 'GN105','E600M','Xperia ZL', '606w','MK260','memo 5S','Desire 609d','A3','Desire D516d','T8830Pro','HT-I717', 'A6800','I630T','T35', '8713','Galaxy Tab S T800','E621T','Galaxy Grand Max','Allure L3C','t789','U701T','Nexus 7' , '5218S','L70','M3','Q302C','U8825D','V919','One ME','Galaxy Infinite','Y220T','IVO 6688','Y610-U00', '5216D','Little Pepper 4','T820','X920e','L820','S939','Xperia Z1 Colorful Edition','T9003','Weike','T21','V95' ,'A860e','V188','S8-701w','S5Q','One M9','voga v1','MM1103','M535', '5261','i1','idol3', ' G5','S5','T12','A2860','Golden Fighter Youth Edition','P8', '802d','Red Pepper NX Plus','A51kc','T004','BF A500', 'T1-821w','Sensation Z7 10E','Xiao Xian 3','Little Stars','M5 Plus','Galaxy Note 10.1 2014 Edition P601','Galaxy S DUOS','A355e','A30','TL500','Z5 Mini' ,'BM001','A690','A68e','W619','GN106','GT-N8000','EG971','N880F','J320T','EG936D','Desire D516t','T929 ','I8250','A338t','T327t','N881F','GN180', '5316', '5930','S880','MC002','U819','JX8166','A300t', '8717', '9976D','Desire D316d','A805e','KDOOR X5-Y12','大器3','S960','X7','Desire HD','E602M','H2' , '78P01','A588t','T619', '8150','LT02','M1L','U8', '8712', '2C','M201S','T90','M20-M','SM-T2556','M3S','S6-NT1','A3600d','X98 3G','Little Pepper 6','A606','Q801L','P318L', ' S860e','T9600','T890','Galaxy Tab P7500','King Kong II','F105','L108','A768t','D557','W800','VIBE P1','L100' ,'R2','ZTE Yuanhang 3','C03','Axon Tianji','OKA51','A385e','Galaxy Tab 2 P5100','N880E','MediaPad 10 Link','XT1033', ' EG980', '210R','U86','Doeasy E700','Q501T','Y310-T10','Y310-5000','S6T','s800','GN108','K88L','U1 ','Z4', '8076', '5311','L930i','Xperia M2','P2','L820c','VT888','U81t','Xperia ZR','I630M','C8813D ','青洋3','Xperia ray','GN9004','Galaxy Grand 2 LTE', '5876','C8812+','D516w','D360','Little Pepper 3','G629', 'P500M','GN800','N2','DM','I639T','PHAB Plus','Galaxy Tab 3 Lite T110','U968','Sonic+','P302C','Nexus 6P', '7605','Y70-C','U808','T703','K23','旋影90w','V931','Little Pepper 7','W700','H3','Tab2A7-20F ', '8736','Mos1','S8-50', '5216s','W88','Ascend G330C','BM002','Drunk Enjoy','MAX3','L5 mini','Hungry for HD ','A358t','N919D', '5879','E913','V981','Little pepper M 3','Galaxy Tab S T805C','Desire V','I635T','E99','X6088','Optimus G Pro 2','A500', '5310', '7275','P501M', 'P518L','E260-T','U818','P502U','I900','U880S','Pegasus 3', '7061','BM002-G5','P360W','P21', 'E968','HT-I857','Y523-L176','Leading Flagship 3','K80','Galaxy Ace 4','L82','Moto X 3','Little Pepper X4', ' V880','i600','U889','F320L','K012','U55GT','Xperia Z5 Premium','A375e', '302U','T00G','L823','C666t', ' EG929','MediaPad M1','W6618','A590','a218t','E956Q','S300','A3500','E50-T','GN705','BM003','A780','D1','Q3C','A360e','P305','F1','LT988', '5313S','Red Pepper Note3','Galaxy S7','Xplay5' ,'Desire 816x','S668t','T9608','IdeaTab A1010-T','W700+', '5200','F240S','M15','T928','Q805T','U970', ' A396','S90-e','天鑑W808','J636D+','V923','T13','P51','X10i','E820','GN5002','G9','P9 Plus ','A328t', '8715','U880E','天鑑W900S','One A9', '8722','V889M','T780+','N919','Galaxy Core','U793', 'L855','T9500','P3','Daiguan Platinum','S560','Xperia J','A3890','G610M','Charm Blue Note3','Hol-U10','Q509T' ,'XT928','X18','A630e','MM1104','I7','A380e','A65','U25GT','Razr V 锋芒','T6','IVO 6666','Z7 ','S8-303L', '9300-M9','V983','G730-U30','V701s Core4','A366t','V965T','ME7510KG','W2016','One X9', 'T328d','YOGA Tablet B8000','A100','C986t+','ZenFone Selfie','Mars One Exploration Edition','P596','S838M','IdeaTab A1000-T','G309T', 'A780e','DROID RAZR M','VIBE X2 Pro','Moto X Pole','A395e','Gigaset ME','Ascend D1','Galaxy Tab P1000','Find 3','U960' ,'G620-L72','T918','U9 36','I699I','E622M','X80h','B8080-F','Magic Mirror X5','Moto Turbo','A1020','T860','S870e','Little Octopus', ' Z1988','X98 Air 3G','King 7','King 7s','T621','Y320C','M228-M51','I6','Galaxy S DUOS 2','Lemon 3', 'T89-2','m310','H6','Lemon X3','Pegasus 2 Plus','Galaxy Tab S T705','IVO 8800','U59GT']\n",
    "\n",
    "phone_brands = {'brand_chinese':brand_list_chinese, 'brand':brand_list_eng}\n",
    "phone_brands_df=pd.DataFrame.from_dict(phone_brands)\n",
    "phone_brands_df\n",
    "\n",
    "phone_models = {'Model_Name_Chinese':model_list_chinese, 'model_name':model_list_eng}\n",
    "phone_models_df=pd.DataFrame.from_dict(phone_models)\n",
    "phone_models_df\n",
    "\n",
    "phone_brand_device_model_df = pd.merge(phone_brand_device_model_df, phone_brands_df, how ='left', left_on='Brand', right_on='brand_chinese').drop(['brand_chinese', 'Brand'], 1)\n",
    "phone_brand_device_model_df = pd.merge(phone_brand_device_model_df, phone_models_df, how ='left', left_on='Model_Name', right_on='Model_Name_Chinese').drop(['Model_Name', 'Model_Name_Chinese'], 1)\n",
    "\n"
   ]
  },
  {
   "cell_type": "code",
   "execution_count": 31,
   "metadata": {},
   "outputs": [
    {
     "data": {
      "text/html": [
       "<div>\n",
       "<style scoped>\n",
       "    .dataframe tbody tr th:only-of-type {\n",
       "        vertical-align: middle;\n",
       "    }\n",
       "\n",
       "    .dataframe tbody tr th {\n",
       "        vertical-align: top;\n",
       "    }\n",
       "\n",
       "    .dataframe thead th {\n",
       "        text-align: right;\n",
       "    }\n",
       "</style>\n",
       "<table border=\"1\" class=\"dataframe\">\n",
       "  <thead>\n",
       "    <tr style=\"text-align: right;\">\n",
       "      <th></th>\n",
       "      <th>device_id</th>\n",
       "      <th>brand</th>\n",
       "      <th>model_name</th>\n",
       "    </tr>\n",
       "  </thead>\n",
       "  <tbody>\n",
       "    <tr>\n",
       "      <th>0</th>\n",
       "      <td>1877775838486905855</td>\n",
       "      <td>vivo</td>\n",
       "      <td>Y13</td>\n",
       "    </tr>\n",
       "    <tr>\n",
       "      <th>1</th>\n",
       "      <td>-3766087376657242966</td>\n",
       "      <td>Xiaomi</td>\n",
       "      <td>V183</td>\n",
       "    </tr>\n",
       "    <tr>\n",
       "      <th>2</th>\n",
       "      <td>-6238937574958215831</td>\n",
       "      <td>OPPO</td>\n",
       "      <td>R7s</td>\n",
       "    </tr>\n",
       "    <tr>\n",
       "      <th>3</th>\n",
       "      <td>8973197758510677470</td>\n",
       "      <td>Samsung</td>\n",
       "      <td>A368t</td>\n",
       "    </tr>\n",
       "    <tr>\n",
       "      <th>4</th>\n",
       "      <td>-2015528097870762664</td>\n",
       "      <td>Xiaomi</td>\n",
       "      <td>Redmi Note2</td>\n",
       "    </tr>\n",
       "    <tr>\n",
       "      <th>5</th>\n",
       "      <td>-8896952452425303597</td>\n",
       "      <td>Xiaomi</td>\n",
       "      <td>Redmi Note3</td>\n",
       "    </tr>\n",
       "    <tr>\n",
       "      <th>6</th>\n",
       "      <td>-2634171391322875113</td>\n",
       "      <td>Xiaomi</td>\n",
       "      <td>S5.1</td>\n",
       "    </tr>\n",
       "    <tr>\n",
       "      <th>7</th>\n",
       "      <td>-2526386806972133373</td>\n",
       "      <td>Samsung</td>\n",
       "      <td>Galaxy Grand Prime</td>\n",
       "    </tr>\n",
       "    <tr>\n",
       "      <th>8</th>\n",
       "      <td>1427934937997164515</td>\n",
       "      <td>Xiaomi</td>\n",
       "      <td>MI 2S</td>\n",
       "    </tr>\n",
       "    <tr>\n",
       "      <th>9</th>\n",
       "      <td>2866484947180243791</td>\n",
       "      <td>Samsung</td>\n",
       "      <td>Galaxy Note 2</td>\n",
       "    </tr>\n",
       "  </tbody>\n",
       "</table>\n",
       "</div>"
      ],
      "text/plain": [
       "             device_id    brand          model_name\n",
       "0  1877775838486905855     vivo                 Y13\n",
       "1 -3766087376657242966   Xiaomi                V183\n",
       "2 -6238937574958215831     OPPO                 R7s\n",
       "3  8973197758510677470  Samsung               A368t\n",
       "4 -2015528097870762664   Xiaomi         Redmi Note2\n",
       "5 -8896952452425303597   Xiaomi         Redmi Note3\n",
       "6 -2634171391322875113   Xiaomi                S5.1\n",
       "7 -2526386806972133373  Samsung  Galaxy Grand Prime\n",
       "8  1427934937997164515   Xiaomi               MI 2S\n",
       "9  2866484947180243791  Samsung      Galaxy Note 2 "
      ]
     },
     "execution_count": 31,
     "metadata": {},
     "output_type": "execute_result"
    }
   ],
   "source": [
    "# Validating top 10 rows after Brand and Model name update\n",
    "phone_brand_device_model_df.head(10)"
   ]
  },
  {
   "cell_type": "markdown",
   "metadata": {},
   "source": [
    "### Replace the NaN values"
   ]
  },
  {
   "cell_type": "markdown",
   "metadata": {},
   "source": [
    "### Filtering events data by 5 states\n",
    "Before this step we will need to remove/replace all the NaN values by the resective values"
   ]
  },
  {
   "cell_type": "code",
   "execution_count": 32,
   "metadata": {},
   "outputs": [
    {
     "data": {
      "text/plain": [
       "1                   WestBengal\n",
       "24                 Uttaranchal\n",
       "13                UttarPradesh\n",
       "23                     Tripura\n",
       "16                   Telangana\n",
       "2                    TamilNadu\n",
       "10                   Rajasthan\n",
       "12                      Punjab\n",
       "26                 Pondicherry\n",
       "11                      Orissa\n",
       "14                    Nagaland\n",
       "22                     Mizoram\n",
       "28                   Meghalaya\n",
       "27                     Manipur\n",
       "5                  Maharashtra\n",
       "8                MadhyaPradesh\n",
       "7                       Kerala\n",
       "9                    Karnataka\n",
       "3                    Jharkhand\n",
       "19             JammuandKashmir\n",
       "30             HimachalPradesh\n",
       "15                     Haryana\n",
       "6                      Gujarat\n",
       "21                         Goa\n",
       "0                        Delhi\n",
       "17                Chhattisgarh\n",
       "31                  Chandigarh\n",
       "18                       Bihar\n",
       "20                       Assam\n",
       "29            ArunachalPradesh\n",
       "4                AndhraPradesh\n",
       "32    AndamanandNicobarIslands\n",
       "25                         NaN\n",
       "Name: 0, dtype: object"
      ]
     },
     "execution_count": 32,
     "metadata": {},
     "output_type": "execute_result"
    }
   ],
   "source": [
    "# Find Unique States in the events data \n",
    "pd.DataFrame(events_data_df.state.unique())[0].sort_values(ascending = False)"
   ]
  },
  {
   "cell_type": "code",
   "execution_count": 33,
   "metadata": {},
   "outputs": [],
   "source": [
    "states_to_filter = ['AndhraPradesh', 'Pondicherry', 'Mizoram', 'AndamanandNicobarIslands', 'Meghalaya', 'HimachalPradesh']"
   ]
  },
  {
   "cell_type": "code",
   "execution_count": 34,
   "metadata": {},
   "outputs": [
    {
     "data": {
      "text/plain": [
       "event_id     329125\n",
       "device_id      5223\n",
       "timestamp    240657\n",
       "longitude      5203\n",
       "latitude       5210\n",
       "city            113\n",
       "state             6\n",
       "dtype: int64"
      ]
     },
     "execution_count": 34,
     "metadata": {},
     "output_type": "execute_result"
    }
   ],
   "source": [
    "boolean_series = events_data_df.state.isin(states_to_filter)\n",
    "#boolean_series\n",
    "events_data_filtered_df = events_data_df[boolean_series]\n",
    "# Reset the indexes\n",
    "events_data_filtered_df = events_data_filtered_df.reset_index(drop=True)\n",
    "#events_data_filtered_df.head()\n",
    "#events_data_filtered_df.state.unique()\n",
    "\n",
    "# Checking the Unique values for each column\n",
    "events_data_filtered_df.nunique()"
   ]
  },
  {
   "cell_type": "code",
   "execution_count": 35,
   "metadata": {},
   "outputs": [
    {
     "data": {
      "text/plain": [
       "(329125, 7)"
      ]
     },
     "execution_count": 35,
     "metadata": {},
     "output_type": "execute_result"
    }
   ],
   "source": [
    "events_data_filtered_df.shape"
   ]
  },
  {
   "cell_type": "code",
   "execution_count": 36,
   "metadata": {},
   "outputs": [
    {
     "data": {
      "text/html": [
       "<div>\n",
       "<style scoped>\n",
       "    .dataframe tbody tr th:only-of-type {\n",
       "        vertical-align: middle;\n",
       "    }\n",
       "\n",
       "    .dataframe tbody tr th {\n",
       "        vertical-align: top;\n",
       "    }\n",
       "\n",
       "    .dataframe thead th {\n",
       "        text-align: right;\n",
       "    }\n",
       "</style>\n",
       "<table border=\"1\" class=\"dataframe\">\n",
       "  <thead>\n",
       "    <tr style=\"text-align: right;\">\n",
       "      <th></th>\n",
       "      <th>event_id</th>\n",
       "      <th>device_id</th>\n",
       "      <th>timestamp</th>\n",
       "      <th>longitude</th>\n",
       "      <th>latitude</th>\n",
       "      <th>city</th>\n",
       "      <th>state</th>\n",
       "    </tr>\n",
       "  </thead>\n",
       "  <tbody>\n",
       "    <tr>\n",
       "      <th>0</th>\n",
       "      <td>1078723</td>\n",
       "      <td>-512424213979236423</td>\n",
       "      <td>2016-05-02 02:21:20</td>\n",
       "      <td>83.398244</td>\n",
       "      <td>17.768149</td>\n",
       "      <td>Visakhapatnam</td>\n",
       "      <td>AndhraPradesh</td>\n",
       "    </tr>\n",
       "    <tr>\n",
       "      <th>1</th>\n",
       "      <td>280014</td>\n",
       "      <td>-8879643774076165575</td>\n",
       "      <td>2016-05-05 13:06:01</td>\n",
       "      <td>78.155397</td>\n",
       "      <td>16.390327</td>\n",
       "      <td>Wanparti</td>\n",
       "      <td>AndhraPradesh</td>\n",
       "    </tr>\n",
       "    <tr>\n",
       "      <th>2</th>\n",
       "      <td>2334601</td>\n",
       "      <td>-601883305299256779</td>\n",
       "      <td>2016-05-05 11:17:48</td>\n",
       "      <td>83.380111</td>\n",
       "      <td>17.828583</td>\n",
       "      <td>Visakhapatnam</td>\n",
       "      <td>AndhraPradesh</td>\n",
       "    </tr>\n",
       "    <tr>\n",
       "      <th>3</th>\n",
       "      <td>2064864</td>\n",
       "      <td>-2764520535330416860</td>\n",
       "      <td>2016-05-03 23:58:20</td>\n",
       "      <td>83.315014</td>\n",
       "      <td>17.825280</td>\n",
       "      <td>Visakhapatnam</td>\n",
       "      <td>AndhraPradesh</td>\n",
       "    </tr>\n",
       "    <tr>\n",
       "      <th>4</th>\n",
       "      <td>1341801</td>\n",
       "      <td>4986891477794016217</td>\n",
       "      <td>2016-05-07 15:24:58</td>\n",
       "      <td>83.324339</td>\n",
       "      <td>17.778384</td>\n",
       "      <td>Visakhapatnam</td>\n",
       "      <td>AndhraPradesh</td>\n",
       "    </tr>\n",
       "    <tr>\n",
       "      <th>5</th>\n",
       "      <td>2463530</td>\n",
       "      <td>8986178529983322937</td>\n",
       "      <td>2016-05-05 21:23:23</td>\n",
       "      <td>83.322091</td>\n",
       "      <td>17.816629</td>\n",
       "      <td>Visakhapatnam</td>\n",
       "      <td>AndhraPradesh</td>\n",
       "    </tr>\n",
       "    <tr>\n",
       "      <th>6</th>\n",
       "      <td>194918</td>\n",
       "      <td>1781207162246898691</td>\n",
       "      <td>2016-05-03 07:34:00</td>\n",
       "      <td>77.316879</td>\n",
       "      <td>15.653540</td>\n",
       "      <td>Adoni</td>\n",
       "      <td>AndhraPradesh</td>\n",
       "    </tr>\n",
       "    <tr>\n",
       "      <th>7</th>\n",
       "      <td>1887410</td>\n",
       "      <td>-7977473090891298873</td>\n",
       "      <td>2016-05-06 14:01:53</td>\n",
       "      <td>83.362778</td>\n",
       "      <td>17.787347</td>\n",
       "      <td>Visakhapatnam</td>\n",
       "      <td>AndhraPradesh</td>\n",
       "    </tr>\n",
       "    <tr>\n",
       "      <th>8</th>\n",
       "      <td>2483170</td>\n",
       "      <td>-626489962741092037</td>\n",
       "      <td>2016-05-06 16:30:36</td>\n",
       "      <td>77.943884</td>\n",
       "      <td>18.670855</td>\n",
       "      <td>Bodhan</td>\n",
       "      <td>AndhraPradesh</td>\n",
       "    </tr>\n",
       "    <tr>\n",
       "      <th>9</th>\n",
       "      <td>2337029</td>\n",
       "      <td>1769320069082027851</td>\n",
       "      <td>2016-05-05 12:28:46</td>\n",
       "      <td>83.381146</td>\n",
       "      <td>17.744599</td>\n",
       "      <td>Visakhapatnam</td>\n",
       "      <td>AndhraPradesh</td>\n",
       "    </tr>\n",
       "  </tbody>\n",
       "</table>\n",
       "</div>"
      ],
      "text/plain": [
       "   event_id             device_id            timestamp  longitude   latitude  \\\n",
       "0   1078723   -512424213979236423  2016-05-02 02:21:20  83.398244  17.768149   \n",
       "1    280014  -8879643774076165575  2016-05-05 13:06:01  78.155397  16.390327   \n",
       "2   2334601   -601883305299256779  2016-05-05 11:17:48  83.380111  17.828583   \n",
       "3   2064864  -2764520535330416860  2016-05-03 23:58:20  83.315014  17.825280   \n",
       "4   1341801   4986891477794016217  2016-05-07 15:24:58  83.324339  17.778384   \n",
       "5   2463530   8986178529983322937  2016-05-05 21:23:23  83.322091  17.816629   \n",
       "6    194918   1781207162246898691  2016-05-03 07:34:00  77.316879  15.653540   \n",
       "7   1887410  -7977473090891298873  2016-05-06 14:01:53  83.362778  17.787347   \n",
       "8   2483170   -626489962741092037  2016-05-06 16:30:36  77.943884  18.670855   \n",
       "9   2337029   1769320069082027851  2016-05-05 12:28:46  83.381146  17.744599   \n",
       "\n",
       "            city          state  \n",
       "0  Visakhapatnam  AndhraPradesh  \n",
       "1       Wanparti  AndhraPradesh  \n",
       "2  Visakhapatnam  AndhraPradesh  \n",
       "3  Visakhapatnam  AndhraPradesh  \n",
       "4  Visakhapatnam  AndhraPradesh  \n",
       "5  Visakhapatnam  AndhraPradesh  \n",
       "6          Adoni  AndhraPradesh  \n",
       "7  Visakhapatnam  AndhraPradesh  \n",
       "8         Bodhan  AndhraPradesh  \n",
       "9  Visakhapatnam  AndhraPradesh  "
      ]
     },
     "execution_count": 36,
     "metadata": {},
     "output_type": "execute_result"
    }
   ],
   "source": [
    "events_data_filtered_df.head(10)"
   ]
  },
  {
   "cell_type": "code",
   "execution_count": null,
   "metadata": {},
   "outputs": [],
   "source": []
  }
 ],
 "metadata": {
  "kernelspec": {
   "display_name": "Python 3",
   "language": "python",
   "name": "python3"
  },
  "language_info": {
   "codemirror_mode": {
    "name": "ipython",
    "version": 3
   },
   "file_extension": ".py",
   "mimetype": "text/x-python",
   "name": "python",
   "nbconvert_exporter": "python",
   "pygments_lexer": "ipython3",
   "version": "3.8.5"
  }
 },
 "nbformat": 4,
 "nbformat_minor": 4
}
